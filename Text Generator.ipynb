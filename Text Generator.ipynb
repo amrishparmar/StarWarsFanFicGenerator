{
 "cells": [
  {
   "cell_type": "markdown",
   "metadata": {},
   "source": [
    "# A text generator for Star Wars fan fics"
   ]
  },
  {
   "cell_type": "markdown",
   "metadata": {},
   "source": [
    "Generate text using a statistical based approach."
   ]
  },
  {
   "cell_type": "markdown",
   "metadata": {},
   "source": [
    "Partially based upon Example 2.2 in the NLTK book"
   ]
  },
  {
   "cell_type": "code",
   "execution_count": 1,
   "metadata": {
    "collapsed": true
   },
   "outputs": [],
   "source": [
    "import nltk\n",
    "import random\n",
    "import glob"
   ]
  },
  {
   "cell_type": "code",
   "execution_count": 2,
   "metadata": {
    "collapsed": false
   },
   "outputs": [],
   "source": [
    "# load the raw text and put into a string\n",
    "raw = \"\"\n",
    "for fname in glob.glob('fanfics/*.txt'):\n",
    "    with open(fname, errors='ignore') as f:\n",
    "        raw += f.read()"
   ]
  },
  {
   "cell_type": "code",
   "execution_count": 3,
   "metadata": {
    "collapsed": true
   },
   "outputs": [],
   "source": [
    "# tokenise the inout\n",
    "tokens = nltk.word_tokenize(raw)"
   ]
  },
  {
   "cell_type": "code",
   "execution_count": 4,
   "metadata": {
    "collapsed": true
   },
   "outputs": [],
   "source": [
    "# convert the list of tokens into nltk Text object\n",
    "text = nltk.Text(tokens)"
   ]
  },
  {
   "cell_type": "code",
   "execution_count": 5,
   "metadata": {
    "collapsed": true
   },
   "outputs": [],
   "source": [
    "# get all the bigrams of the text\n",
    "bigrams = nltk.bigrams(text)"
   ]
  },
  {
   "cell_type": "code",
   "execution_count": 6,
   "metadata": {
    "collapsed": true
   },
   "outputs": [],
   "source": [
    "# generate a conditional frequency distribution\n",
    "cfd = nltk.ConditionalFreqDist(bigrams)"
   ]
  },
  {
   "cell_type": "code",
   "execution_count": 7,
   "metadata": {
    "collapsed": true
   },
   "outputs": [],
   "source": [
    "def multiply(d):\n",
    "    \"\"\"Return a list where for every (k, v) in d, k is repeated v times in the list\n",
    "    \n",
    "    :param d: A dictionary, (string => int)\n",
    "    :return: A list of strings\n",
    "    \"\"\"\n",
    "    tuples = []\n",
    "    for k in d:\n",
    "        tuples.extend([k] * d[k])\n",
    "    return tuples"
   ]
  },
  {
   "cell_type": "code",
   "execution_count": 8,
   "metadata": {
    "collapsed": true
   },
   "outputs": [],
   "source": [
    "def generate_model(cfdist, word, num=100):\n",
    "    \"\"\"Generate and print a list of words based on a weighted analysis of bigrams\n",
    "    \n",
    "    :param cfdist: An nltk conditional frequency distribution\n",
    "    :param word: A string, the word to use as the starting value for generation\n",
    "    :param num: An integer, the number of words to generate\n",
    "    \"\"\"\n",
    "    \n",
    "    # ensure that the word appears in the original corpora\n",
    "    if cfdist[word] == nltk.FreqDist():\n",
    "        print(\"{} not in {}\".format(word, cfdist))\n",
    "        return\n",
    "    \n",
    "    for i in range(num):\n",
    "        print(word, end=' ')\n",
    "        words = cfdist[word]  # get the freqency distribution of words following the current word\n",
    "        multiplied_words = multiply(words)  # multiply the words based on the frequency\n",
    "        word = random.choice(multiplied_words)  # choose one of the words in the "
   ]
  },
  {
   "cell_type": "code",
   "execution_count": 9,
   "metadata": {
    "collapsed": false
   },
   "outputs": [
    {
     "name": "stdout",
     "output_type": "stream",
     "text": [
      "Mara Jade Skywalker gladly attached her voice calm , then down inside . He turned into motion to trust me later , returning to speak with , upper levels of him , wearing an idle day . Reaching out the signal to them . As the Falleen would n't too far right , Matic decided to orange . As much of Arkadas knowing he was cool it and vivid , and Darzik . By all the main hallway from its entrance . She handled authority . `` It is . '' the room . `` Sometimes , Jedi teachings helping "
     ]
    }
   ],
   "source": [
    "generate_model(cfd, 'Mara')"
   ]
  },
  {
   "cell_type": "code",
   "execution_count": 10,
   "metadata": {
    "collapsed": false
   },
   "outputs": [
    {
     "name": "stdout",
     "output_type": "stream",
     "text": [
      "Luke like a Sith would not one hour to leave '' With it had surfaced . It was a cord , and shoved the body . Arkadas might laugh . Fhamir ? '' He sensed Traya entered , ponder the device on his enemy truly dead . `` If you 're panicking , no more days . They 're blaming me and fearnothing more than on her lips curved upwards . The sun at the alien in bio-stasis had run down the wall . Over the human race would Referius admitted . The two , I explained . The stench "
     ]
    }
   ],
   "source": [
    "generate_model(cfd, 'Luke')"
   ]
  },
  {
   "cell_type": "code",
   "execution_count": 11,
   "metadata": {
    "collapsed": false
   },
   "outputs": [
    {
     "name": "stdout",
     "output_type": "stream",
     "text": [
      "dark side , huh ? '' he was just north of the datapad . He raised his body slammed to die anyway . `` You see any breath . Meddling by this planet , his failure . Their entire body can be hostile . The ship down , he shot up . All right , I ca n't too far superior to hers . `` Then , Commander ? '' I know , Mara pointed a time to do . Then , then get a Jedi talent of transport that is . There were well-experienced . Understanding did it , "
     ]
    }
   ],
   "source": [
    "generate_model(cfd, 'dark')"
   ]
  },
  {
   "cell_type": "code",
   "execution_count": 12,
   "metadata": {
    "collapsed": false
   },
   "outputs": [
    {
     "name": "stdout",
     "output_type": "stream",
     "text": [
      "Darth Eharl was able to come at a sudden , and serenity Luke and I 'm suffering in cohesion to accumulate . With Skywalker shouted . Even a few steps . Pace ; the datacard is the Jedi . Where the air between he were expecting . Another was planning something there . `` It had paid for him directly in a lightsaber . `` Please ! '' No , '' Referius had gone , though , returning was filled with the hallwayto the first , there 's hut . Besides , and deflecting a decision made a sigh come "
     ]
    }
   ],
   "source": [
    "generate_model(cfd, 'Darth')"
   ]
  },
  {
   "cell_type": "code",
   "execution_count": 13,
   "metadata": {
    "collapsed": false
   },
   "outputs": [
    {
     "name": "stdout",
     "output_type": "stream",
     "text": [
      "Darth Diabolicus . Closing his blade into the woman hesitated as he darted inside his frustration . `` I sense a yell as you two stop it . Pace . `` Oh , her as he replied . Warriors fell back to somebody sneezes down . He looked away , the time attempting to fight anymore . Dedication you , and shoved them were put securely hunched over , the top and Matic Pace ? That doesnt matter how everything we have three strikes of metal out disgustedly , '' Mara gladly accepted his ear and felt the Falleen talk "
     ]
    }
   ],
   "source": [
    "generate_model(cfd, 'Darth')"
   ]
  },
  {
   "cell_type": "code",
   "execution_count": 14,
   "metadata": {
    "collapsed": false
   },
   "outputs": [
    {
     "name": "stdout",
     "output_type": "stream",
     "text": [
      "Anger welled up ahead of them . He made . Nonetheless , unseen . Now he took just that , Luke hesitated . I do with surprise , then shifted . `` Were heading towards the former glory as he attempted to return to play a Padawan while he grabbed her attention back . Leia was too pretty , Luke told him for his potential to do . He had a burst through the Force adepts are in was waiting for too happy . `` He glanced at it , he could do scouting missionsinvestigations . '' Referius could already "
     ]
    }
   ],
   "source": [
    "generate_model(cfd, 'Anger')"
   ]
  },
  {
   "cell_type": "code",
   "execution_count": 15,
   "metadata": {
    "collapsed": false
   },
   "outputs": [
    {
     "name": "stdout",
     "output_type": "stream",
     "text": [
      "Love . He tried to accumulate . Just let you know , and emergency lights always seemed stunned by . Nevertheless , the station 's opening in reality . The commander shrugged . '' `` It has made him . To top it was as the way outside the Falcons main window of other man , `` Come watch your name the tension in serious edge , she felt the huge planet-city , one . Fhamirs patrol . He could kill us or so much newer warrior began to convince him . Steeling himself , wandering from the door until "
     ]
    }
   ],
   "source": [
    "generate_model(cfd, 'Love')"
   ]
  }
 ],
 "metadata": {
  "kernelspec": {
   "display_name": "Python [conda root]",
   "language": "python",
   "name": "conda-root-py"
  },
  "language_info": {
   "codemirror_mode": {
    "name": "ipython",
    "version": 3
   },
   "file_extension": ".py",
   "mimetype": "text/x-python",
   "name": "python",
   "nbconvert_exporter": "python",
   "pygments_lexer": "ipython3",
   "version": "3.5.2"
  }
 },
 "nbformat": 4,
 "nbformat_minor": 2
}
